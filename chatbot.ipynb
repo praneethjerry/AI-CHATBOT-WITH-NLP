{
  "nbformat": 4,
  "nbformat_minor": 0,
  "metadata": {
    "colab": {
      "provenance": []
    },
    "kernelspec": {
      "name": "python3",
      "display_name": "Python 3"
    },
    "language_info": {
      "name": "python"
    }
  },
  "cells": [
    {
      "cell_type": "code",
      "execution_count": 181,
      "metadata": {
        "id": "k8mLYfqbxtKN"
      },
      "outputs": [],
      "source": [
        "import numpy as np\n",
        "import nltk\n",
        "import string\n",
        "import random\n"
      ]
    },
    {
      "cell_type": "code",
      "source": [
        "f=open('/content/data.txt','r',errors='ignore')\n",
        "raw_doc=f.read()\n"
      ],
      "metadata": {
        "id": "o-pUMXBxwMA8"
      },
      "execution_count": 182,
      "outputs": []
    },
    {
      "cell_type": "code",
      "source": [
        "raw_doc=raw_doc.lower()\n",
        "nltk.download('punkt')\n",
        "nltk.download('wordnet')\n",
        "nltk.download('omw-1.4')\n",
        "nltk.download('punkt_tab')"
      ],
      "metadata": {
        "colab": {
          "base_uri": "https://localhost:8080/"
        },
        "id": "_-80uSxOxiNj",
        "outputId": "a78faa2a-7f19-414d-c245-73798ed35792"
      },
      "execution_count": 183,
      "outputs": [
        {
          "output_type": "stream",
          "name": "stderr",
          "text": [
            "[nltk_data] Downloading package punkt to /root/nltk_data...\n",
            "[nltk_data]   Package punkt is already up-to-date!\n",
            "[nltk_data] Downloading package wordnet to /root/nltk_data...\n",
            "[nltk_data]   Package wordnet is already up-to-date!\n",
            "[nltk_data] Downloading package omw-1.4 to /root/nltk_data...\n",
            "[nltk_data]   Package omw-1.4 is already up-to-date!\n",
            "[nltk_data] Downloading package punkt_tab to /root/nltk_data...\n",
            "[nltk_data]   Package punkt_tab is already up-to-date!\n"
          ]
        },
        {
          "output_type": "execute_result",
          "data": {
            "text/plain": [
              "True"
            ]
          },
          "metadata": {},
          "execution_count": 183
        }
      ]
    },
    {
      "cell_type": "code",
      "source": [
        "sentence_tokens=nltk.sent_tokenize(raw_doc)\n",
        "word_tokens=nltk.word_tokenize(raw_doc)"
      ],
      "metadata": {
        "id": "KFrA7KtPyxRb"
      },
      "execution_count": 184,
      "outputs": []
    },
    {
      "cell_type": "code",
      "source": [
        "sentence_tokens[:2]\n"
      ],
      "metadata": {
        "colab": {
          "base_uri": "https://localhost:8080/"
        },
        "id": "eJAvxAGWz-SK",
        "outputId": "d72ca065-729c-4177-9e0e-2f34ad6cf53d"
      },
      "execution_count": 185,
      "outputs": [
        {
          "output_type": "execute_result",
          "data": {
            "text/plain": [
              "['marvel comics is a new york city–based comic book publisher, a property of the walt disney company since december 31, 2009, and a subsidiary of disney publishing worldwide since march 2023. marvel was founded in 1939 by martin goodman as timely comics,[3] and by 1951 had generally become known as atlas comics.',\n",
              " 'the marvel era began in august 1961 with the launch of the fantastic four and other superhero titles created by stan lee, jack kirby, steve ditko, and numerous others.']"
            ]
          },
          "metadata": {},
          "execution_count": 185
        }
      ]
    },
    {
      "cell_type": "code",
      "source": [
        "word_tokens[:5]\n"
      ],
      "metadata": {
        "colab": {
          "base_uri": "https://localhost:8080/"
        },
        "id": "V4xag1ej08nK",
        "outputId": "764bbd7c-314e-42a8-db48-55fde49e736c"
      },
      "execution_count": 186,
      "outputs": [
        {
          "output_type": "execute_result",
          "data": {
            "text/plain": [
              "['marvel', 'comics', 'is', 'a', 'new']"
            ]
          },
          "metadata": {},
          "execution_count": 186
        }
      ]
    },
    {
      "cell_type": "code",
      "source": [
        "lemmer = nltk.stem.WordNetLemmatizer()\n",
        "\n",
        "def LemTokens(tokens):\n",
        "    return [lemmer.lemmatize(token) for token in tokens]\n",
        "\n",
        "remove_punc_dict = dict((ord(punct), None) for punct in string.punctuation)\n",
        "\n",
        "def LemNormalize(text):\n",
        "    return LemTokens(nltk.word_tokenize(text.lower().translate(remove_punc_dict)))\n"
      ],
      "metadata": {
        "id": "cXFAnqUS39C9"
      },
      "execution_count": 187,
      "outputs": []
    },
    {
      "cell_type": "code",
      "source": [
        "greet_inputs = ('hello', 'hi', 'whatsapp', 'how are you', 'hey', 'good morning', 'good evening', 'greetings', 'whats up', 'yo', 'sup', 'howdy', 'hola')\n",
        "\n",
        "greet_outputs = ('hi', 'hey', 'hey there', 'hello', 'howdy', 'sup', 'yo', 'greetings', 'nice to see you')\n",
        "\n",
        "def greet(sentence):\n",
        "  for word in sentence.split():\n",
        "    if word.lower() in greet_inputs:\n",
        "      return random.choice(greet_outputs)\n",
        "\n",
        "print(greet('hello'))\n"
      ],
      "metadata": {
        "colab": {
          "base_uri": "https://localhost:8080/"
        },
        "id": "jir4OWjw4QVw",
        "outputId": "539c50de-0ab3-47b4-95aa-abf464738c6c"
      },
      "execution_count": 188,
      "outputs": [
        {
          "output_type": "stream",
          "name": "stdout",
          "text": [
            "howdy\n"
          ]
        }
      ]
    },
    {
      "cell_type": "code",
      "source": [
        "from sklearn.feature_extraction.text import TfidfVectorizer\n",
        "from sklearn.metrics.pairwise import cosine_similarity\n"
      ],
      "metadata": {
        "id": "NDRTBnvqMSmB"
      },
      "execution_count": 189,
      "outputs": []
    },
    {
      "cell_type": "code",
      "source": [
        "def response(user_response):\n",
        "    robo1_response = ''\n",
        "    TfidVec =TfidfVectorizer(tokenizer=LemNormalize, stop_words='english')\n",
        "    tfidf = TfidVec.fit_transform(sentence_tokens)\n",
        "    vals = cosine_similarity(tfidf[-1], tfidf)\n",
        "    idx = vals.argsort()[0][-2]\n",
        "    flat = vals.flatten()\n",
        "    flat.sort()\n",
        "    req_tfidf = flat[-2]\n",
        "\n",
        "    if (req_tfidf == 0):\n",
        "        robo1_response = robo1_response + \"I am sorry. Unable to understand you!\"\n",
        "        return robo1_response\n",
        "    else:\n",
        "        robo1_response = robo1_response + sentence_tokens[idx]\n",
        "        return robo1_response\n",
        "\n"
      ],
      "metadata": {
        "id": "9tWiGuY4IruL"
      },
      "execution_count": 190,
      "outputs": []
    },
    {
      "cell_type": "code",
      "source": [
        "\n",
        "flag = True\n",
        "exit_phrases = {'bye', 'exit', 'quit', 'goodbye'}\n",
        "thanks_phrases = {'thank you', 'thanks', 'thx', 'thanks a lot', 'appreciate it', 'grateful'}\n",
        "thanks_responses = [\n",
        "    \"You're welcome! 😊\",\n",
        "    \"No problem! 😃\",\n",
        "    \"Glad to help! 🚀\",\n",
        "    \"Anytime! 👍\",\n",
        "    \"Happy to assist! 😊\"\n",
        "]\n",
        "\n",
        "print('Hey there! I am your friendly chatbot. Type a message to chat with me. Say \"bye\" to exit.')\n",
        "\n",
        "while flag:\n",
        "    user_response = input().lower()\n",
        "\n",
        "    if user_response in exit_phrases:\n",
        "        flag = False\n",
        "        print('Bot: Goodbye! Have a great day! 😊')\n",
        "\n",
        "    elif user_response in thanks_phrases:\n",
        "        print('Bot:', random.choice(thanks_responses))\n",
        "\n",
        "\n",
        "    else:\n",
        "        if greet(user_response) is not None:\n",
        "            print('Bot:', greet(user_response))\n",
        "        else:\n",
        "            sentence_tokens.append(user_response)\n",
        "            word_tokens.extend(nltk.word_tokenize(user_response))\n",
        "            final_words = list(set(word_tokens))\n",
        "            print('Bot:', response(user_response))\n",
        "            sentence_tokens.remove(user_response)\n"
      ],
      "metadata": {
        "colab": {
          "base_uri": "https://localhost:8080/"
        },
        "id": "60-Bk2M-K7Nn",
        "outputId": "0de8cbba-9a7e-43b6-8adf-728845769813"
      },
      "execution_count": 191,
      "outputs": [
        {
          "output_type": "stream",
          "name": "stdout",
          "text": [
            "Hey there! I am your friendly chatbot. Type a message to chat with me. Say \"bye\" to exit.\n",
            "hi\n",
            "Bot: nice to see you\n",
            "When was Marvel Comics founded, and by whom?\n",
            "Bot: marvel comics is a new york city–based comic book publisher, a property of the walt disney company since december 31, 2009, and a subsidiary of disney publishing worldwide since march 2023. marvel was founded in 1939 by martin goodman as timely comics,[3] and by 1951 had generally become known as atlas comics.\n",
            "When did Marvel Comics officially become a property of the Walt Disney Company?\n",
            "Bot: marvel comics is a new york city–based comic book publisher, a property of the walt disney company since december 31, 2009, and a subsidiary of disney publishing worldwide since march 2023. marvel was founded in 1939 by martin goodman as timely comics,[3] and by 1951 had generally become known as atlas comics.\n",
            "What name was Marvel known by before adopting its current name?\n",
            "Bot: pulp-magazine publisher martin goodman created the company later known as marvel comics under the name timely publications in 1939.\n",
            "When did the Marvel era begin, and what marked its start?\n",
            "Bot: the change was scheduled to start on october 1, 2021, in a multi-year partnership.\n",
            "Who were some of the key creators behind Marvel’s early success?\n",
            "Bot: in early 1992, seven of marvel’s prized artists—todd mcfarlane (known for his work on spider-man), jim lee (x-men), rob liefeld (x-force), marc silvestri (wolverine), erik larsen (the amazing spider-man), jim valentino (guardians of the galaxy), and whilce portacio (uncanny x-men)—left to form image comics[62] in a deal brokered by malibu comics' owner scott mitchell rosenberg.\n",
            "Name three major superhero teams in Marvel Comics.\n",
            "Bot: [110] also in march, marvel announced its marvel reevolution initiative that included infinite comics,[111] a line of digital comics, marvel ar, a software application that provides an augmented reality experience to readers and marvel now!, a relaunch of most of the company's major titles with different creative teams.\n",
            "Which real-life city serves as the main setting for many Marvel stories?\n",
            "Bot: most of marvel's fictional characters operate in a single reality known as the marvel universe, with most locations mirroring real-life places; many major characters are based in new york city.\n",
            "What popular sci-fi franchise has Marvel published comics for, and in which years?\n",
            "Bot: [4] additionally, marvel has published several licensed properties from other companies.\n",
            "thanks\n",
            "Bot: You're welcome! 😊\n",
            "bye\n",
            "Bot: Goodbye! Have a great day! 😊\n"
          ]
        }
      ]
    },
    {
      "cell_type": "markdown",
      "source": [],
      "metadata": {
        "id": "jOR_0sKnlHq6"
      }
    }
  ]
}